{
 "cells": [
  {
   "cell_type": "code",
   "execution_count": null,
   "metadata": {},
   "outputs": [],
   "source": [
    "import pandas as pd\n",
    "import numpy as np\n",
    "import matplotlib.pyplot as plt\n",
    "import seaborn as sns\n",
    "from skimpy import skim\n",
    "from skimpy import clean_columns\n",
    "\n",
    "\n",
    "from sklearn.model_selection import train_test_split\n",
    "from sklearn.metrics import recall_score, precision_score, roc_auc_score, accuracy_score, f1_score\n",
    "from catboost import CatBoostClassifier"
   ]
  },
  {
   "cell_type": "code",
   "execution_count": null,
   "metadata": {},
   "outputs": [],
   "source": []
  },
  {
   "cell_type": "code",
   "execution_count": null,
   "metadata": {},
   "outputs": [],
   "source": []
  },
  {
   "cell_type": "code",
   "execution_count": null,
   "metadata": {},
   "outputs": [
    {
     "data": {
      "text/plain": [
       "outcome\n",
       "0    500\n",
       "1    268\n",
       "Name: count, dtype: int64"
      ]
     },
     "execution_count": 5,
     "metadata": {},
     "output_type": "execute_result"
    }
   ],
   "source": [
    "# df.outcome.value_counts()"
   ]
  },
  {
   "cell_type": "code",
   "execution_count": null,
   "metadata": {},
   "outputs": [
    {
     "name": "stdout",
     "output_type": "stream",
     "text": [
      "0:\tlearn: 0.5560748\ttest: 0.5185185\tbest: 0.5185185 (0)\ttotal: 73.5ms\tremaining: 36.7s\n",
      "100:\tlearn: 0.9112150\ttest: 0.6111111\tbest: 0.6111111 (68)\ttotal: 202ms\tremaining: 799ms\n",
      "Stopped by overfitting detector  (50 iterations wait)\n",
      "\n",
      "bestTest = 0.6111111111\n",
      "bestIteration = 68\n",
      "\n",
      "Shrink model to first 69 iterations.\n",
      "\n",
      "=== Метрики модели ===\n",
      "Accuracy: 0.7403\n",
      "Recall: 0.6111\n",
      "Precision: 0.6346\n",
      "F1-score: 0.6226\n",
      "ROC-AUC: 0.8091\n",
      "\n"
     ]
    }
   ],
   "source": [
    "import pandas as pd\n",
    "import numpy as np\n",
    "import matplotlib.pyplot as plt\n",
    "import seaborn as sns\n",
    "from skimpy import skim\n",
    "from skimpy import clean_columns\n",
    "\n",
    "\n",
    "from sklearn.model_selection import train_test_split\n",
    "from sklearn.metrics import recall_score, precision_score, roc_auc_score, accuracy_score, f1_score\n",
    "from catboost import CatBoostClassifier\n",
    "\n",
    "# Загрузка и подготовка данных\n",
    "df = pd.read_csv('../data/diabetes.csv')\n",
    "df = clean_columns(df)  # Ваша функция очистки\n",
    "\n",
    "# Разделение данных\n",
    "X = df.drop('outcome', axis=1)\n",
    "y = df['outcome']\n",
    "X_train, X_test, y_train, y_test = train_test_split(\n",
    "    X, y, \n",
    "    stratify=y, \n",
    "    test_size=0.2, \n",
    "    random_state=42\n",
    ")\n",
    "\n",
    "# Инициализация и обучение CatBoost\n",
    "model = CatBoostClassifier(\n",
    "    iterations=500,\n",
    "    learning_rate=0.1,\n",
    "    depth=6,\n",
    "    eval_metric='Recall',\n",
    "    random_state=42,\n",
    "    verbose=100\n",
    ")\n",
    "\n",
    "model.fit(\n",
    "    X_train, y_train,\n",
    "    eval_set=(X_test, y_test),\n",
    "    early_stopping_rounds=50\n",
    ")\n",
    "\n",
    "# Предсказания и оценка\n",
    "y_pred = model.predict(X_test)\n",
    "y_proba = model.predict_proba(X_test)[:, 1]\n",
    "\n",
    "print(\"\\n=== Метрики модели ===\")\n",
    "print(f\"Accuracy: {accuracy_score(y_test, y_pred):.4f}\")\n",
    "print(f\"Recall: {recall_score(y_test, y_pred):.4f}\")\n",
    "print(f\"Precision: {precision_score(y_test, y_pred):.4f}\")\n",
    "print(f\"F1-score: {f1_score(y_test, y_pred):.4f}\")\n",
    "print(f\"ROC-AUC: {roc_auc_score(y_test, y_proba):.4f}\\n\")"
   ]
  },
  {
   "cell_type": "code",
   "execution_count": null,
   "metadata": {},
   "outputs": [],
   "source": [
    "# # Первые 5 строк\n",
    "# print(df.head())\n",
    "\n",
    "# # Информация о данных\n",
    "# print(df.info())\n",
    "\n",
    "# # Статистика\n",
    "# print(df.describe())\n",
    "\n",
    "# # Проверка на пропуски\n",
    "# print(df.isnull().sum())  "
   ]
  },
  {
   "cell_type": "code",
   "execution_count": 13,
   "metadata": {},
   "outputs": [],
   "source": [
    "# plt.figure(figsize=(12, 8))\n",
    "# for i, column in enumerate(df.columns[:-1]):\n",
    "#     plt.subplot(3, 3, i+1)\n",
    "#     sns.histplot(df[column], kde=True, bins=20)\n",
    "#     plt.title(column)\n",
    "# plt.tight_layout()\n",
    "# plt.show()"
   ]
  },
  {
   "cell_type": "code",
   "execution_count": 14,
   "metadata": {},
   "outputs": [],
   "source": [
    "# import seaborn as sns\n",
    "# import matplotlib.pyplot as plt\n",
    "\n",
    "# plt.figure(figsize=(12, 6))\n",
    "# sns.boxplot(x='outcome', y='glucose', data=df)\n",
    "# plt.title(\"Уровень глюкозы у пациентов с диабетом и без\")\n",
    "# plt.show()"
   ]
  },
  {
   "cell_type": "code",
   "execution_count": 15,
   "metadata": {},
   "outputs": [],
   "source": [
    "# plt.figure(figsize=(10, 6))\n",
    "# sns.heatmap(df.corr(), annot=True, cmap='coolwarm')\n",
    "# plt.title('Корреляционная матрица')\n",
    "# plt.show()"
   ]
  },
  {
   "cell_type": "code",
   "execution_count": null,
   "metadata": {},
   "outputs": [],
   "source": []
  },
  {
   "cell_type": "code",
   "execution_count": null,
   "metadata": {},
   "outputs": [],
   "source": []
  },
  {
   "cell_type": "code",
   "execution_count": null,
   "metadata": {},
   "outputs": [
    {
     "name": "stdout",
     "output_type": "stream",
     "text": [
      "Точность модели: 0.62\n"
     ]
    }
   ],
   "source": []
  },
  {
   "cell_type": "code",
   "execution_count": 186,
   "metadata": {},
   "outputs": [
    {
     "name": "stdout",
     "output_type": "stream",
     "text": [
      "Новые признаки:\n"
     ]
    },
    {
     "data": {
      "text/html": [
       "<div>\n",
       "<style scoped>\n",
       "    .dataframe tbody tr th:only-of-type {\n",
       "        vertical-align: middle;\n",
       "    }\n",
       "\n",
       "    .dataframe tbody tr th {\n",
       "        vertical-align: top;\n",
       "    }\n",
       "\n",
       "    .dataframe thead th {\n",
       "        text-align: right;\n",
       "    }\n",
       "</style>\n",
       "<table border=\"1\" class=\"dataframe\">\n",
       "  <thead>\n",
       "    <tr style=\"text-align: right;\">\n",
       "      <th></th>\n",
       "      <th>bmi_glucose_interaction</th>\n",
       "      <th>bloodpressure_age_ratio</th>\n",
       "      <th>age_group</th>\n",
       "    </tr>\n",
       "  </thead>\n",
       "  <tbody>\n",
       "    <tr>\n",
       "      <th>0</th>\n",
       "      <td>49.728</td>\n",
       "      <td>1.440000</td>\n",
       "      <td>middle</td>\n",
       "    </tr>\n",
       "    <tr>\n",
       "      <th>1</th>\n",
       "      <td>22.610</td>\n",
       "      <td>2.129032</td>\n",
       "      <td>middle</td>\n",
       "    </tr>\n",
       "    <tr>\n",
       "      <th>2</th>\n",
       "      <td>42.639</td>\n",
       "      <td>2.000000</td>\n",
       "      <td>middle</td>\n",
       "    </tr>\n",
       "    <tr>\n",
       "      <th>3</th>\n",
       "      <td>25.009</td>\n",
       "      <td>3.142857</td>\n",
       "      <td>low</td>\n",
       "    </tr>\n",
       "    <tr>\n",
       "      <th>4</th>\n",
       "      <td>59.047</td>\n",
       "      <td>1.212121</td>\n",
       "      <td>middle</td>\n",
       "    </tr>\n",
       "  </tbody>\n",
       "</table>\n",
       "</div>"
      ],
      "text/plain": [
       "   bmi_glucose_interaction  bloodpressure_age_ratio age_group\n",
       "0                   49.728                 1.440000    middle\n",
       "1                   22.610                 2.129032    middle\n",
       "2                   42.639                 2.000000    middle\n",
       "3                   25.009                 3.142857       low\n",
       "4                   59.047                 1.212121    middle"
      ]
     },
     "metadata": {},
     "output_type": "display_data"
    }
   ],
   "source": [
    "import pandas as pd\n",
    "import numpy as np\n",
    "\n",
    "# Загрузка данных\n",
    "\n",
    "# 1. Взаимодействие признаков\n",
    "df['bmi_glucose_interaction'] = df['bmi'] * df['glucose'] / 100  # Нормировка для удобства\n",
    "df['bloodpressure_age_ratio'] = df['blood_pressure'] / df['age']\n",
    "\n",
    "# 2. Категоризация возраста\n",
    "df['age_group'] = pd.cut(df['age'], bins=[0, 30, 50, 100], labels=['low', 'middle', 'hight'])\n",
    "\n",
    "# Проверка результата\n",
    "print(\"Новые признаки:\")\n",
    "display(df[['bmi_glucose_interaction', 'bloodpressure_age_ratio', 'age_group']].head())"
   ]
  },
  {
   "cell_type": "code",
   "execution_count": 16,
   "metadata": {},
   "outputs": [],
   "source": [
    "# # Тепловая карта корреляций\n",
    "# plt.figure(figsize=(12, 8))\n",
    "# corr = df.corr(numeric_only=True)\n",
    "# sns.heatmap(corr, annot=True, cmap='coolwarm', fmt=\".2f\")\n",
    "# plt.title(\"Корреляция признаков (включая новые)\")\n",
    "# plt.show()\n",
    "\n",
    "# # Топ-3 коррелирующих признака\n",
    "# top_corr = corr['outcome'].abs().sort_values(ascending=False).index[1:4]\n",
    "# print(f\"Топ-3 признака, связанных с диабетом: {list(top_corr)}\")"
   ]
  },
  {
   "cell_type": "code",
   "execution_count": null,
   "metadata": {},
   "outputs": [],
   "source": [
    "# 3. Проверка гипотезы\n",
    "# Гипотеза:\n",
    "# Комбинация высокого уровня глюкозы (Glucose > 140) и высокого ИМТ (BMI > 30) увеличивает риск диабета в 2+ раза."
   ]
  },
  {
   "cell_type": "code",
   "execution_count": 190,
   "metadata": {},
   "outputs": [
    {
     "name": "stdout",
     "output_type": "stream",
     "text": [
      "Риск диабета в группе High_Risk: 75.68%\n",
      "Риск диабета в остальных случаях: 25.16%\n",
      "Относительный риск: 3.0x\n"
     ]
    }
   ],
   "source": [
    "# Создание бинарных признаков\n",
    "df['high_glucose'] = (df['glucose'] > 140).astype(int)\n",
    "df['high_bmi'] = (df['bmi'] > 30).astype(int)\n",
    "df['high_risk_group'] = (df['high_glucose'] + df['high_bmi'] >= 2).astype(int)\n",
    "\n",
    "# Проверка гипотезы\n",
    "risk_group_rate = df[df['high_risk_group'] == 1]['outcome'].mean()\n",
    "non_risk_group_rate = df[df['high_risk_group'] == 0]['outcome'].mean()\n",
    "\n",
    "print(f\"Риск диабета в группе High_Risk: {risk_group_rate:.2%}\")\n",
    "print(f\"Риск диабета в остальных случаях: {non_risk_group_rate:.2%}\")\n",
    "print(f\"Относительный риск: {risk_group_rate / non_risk_group_rate:.1f}x\")"
   ]
  },
  {
   "cell_type": "code",
   "execution_count": null,
   "metadata": {},
   "outputs": [],
   "source": []
  },
  {
   "cell_type": "code",
   "execution_count": null,
   "metadata": {},
   "outputs": [],
   "source": []
  },
  {
   "cell_type": "code",
   "execution_count": 21,
   "metadata": {},
   "outputs": [
    {
     "ename": "NameError",
     "evalue": "name '__file__' is not defined",
     "output_type": "error",
     "traceback": [
      "\u001b[0;31m---------------------------------------------------------------------------\u001b[0m",
      "\u001b[0;31mNameError\u001b[0m                                 Traceback (most recent call last)",
      "Cell \u001b[0;32mIn[21], line 16\u001b[0m\n\u001b[1;32m     13\u001b[0m \u001b[38;5;28;01mfrom\u001b[39;00m\u001b[38;5;250m \u001b[39m\u001b[38;5;21;01mskimpy\u001b[39;00m\u001b[38;5;250m \u001b[39m\u001b[38;5;28;01mimport\u001b[39;00m clean_columns\n\u001b[1;32m     15\u001b[0m \u001b[38;5;66;03m# Настройка путей\u001b[39;00m\n\u001b[0;32m---> 16\u001b[0m BASE_DIR \u001b[38;5;241m=\u001b[39m Path(\u001b[38;5;18;43m__file__\u001b[39;49m)\u001b[38;5;241m.\u001b[39mparent\u001b[38;5;241m.\u001b[39mparent\n\u001b[1;32m     17\u001b[0m DATA_PATH \u001b[38;5;241m=\u001b[39m BASE_DIR \u001b[38;5;241m/\u001b[39m \u001b[38;5;124m'\u001b[39m\u001b[38;5;124mdata\u001b[39m\u001b[38;5;124m'\u001b[39m \u001b[38;5;241m/\u001b[39m \u001b[38;5;124m'\u001b[39m\u001b[38;5;124mdiabetes.csv\u001b[39m\u001b[38;5;124m'\u001b[39m\n\u001b[1;32m     18\u001b[0m MODEL_DIR \u001b[38;5;241m=\u001b[39m BASE_DIR \u001b[38;5;241m/\u001b[39m \u001b[38;5;124m'\u001b[39m\u001b[38;5;124mmodels\u001b[39m\u001b[38;5;124m'\u001b[39m\n",
      "\u001b[0;31mNameError\u001b[0m: name '__file__' is not defined"
     ]
    }
   ],
   "source": [
    "import pandas as pd\n",
    "import numpy as np\n",
    "import os\n",
    "from pathlib import Path\n",
    "from sklearn.model_selection import train_test_split\n",
    "from sklearn.metrics import (accuracy_score, recall_score, \n",
    "                            precision_score, roc_auc_score, f1_score)\n",
    "from catboost import CatBoostClassifier\n",
    "import json\n",
    "import joblib\n",
    "from datetime import datetime\n",
    "from skimpy import skim\n",
    "from skimpy import clean_columns\n",
    "\n",
    "# Настройка путей\n",
    "BASE_DIR = Path(__file__).parent.parent\n",
    "DATA_PATH = BASE_DIR / 'data' / 'diabetes.csv'\n",
    "MODEL_DIR = BASE_DIR / 'models'\n",
    "os.makedirs(MODEL_DIR, exist_ok=True)\n",
    "\n",
    "def train_and_save_model():\n",
    "    # Загрузка и подготовка данных\n",
    "    print(\"Загрузка данных...\")\n",
    "    df = pd.read_csv(DATA_PATH)\n",
    "    df = clean_columns(df)\n",
    "    \n",
    "    # Разделение данных\n",
    "    X = df.drop('outcome', axis=1)\n",
    "    y = df['outcome']\n",
    "    X_train, X_test, y_train, y_test = train_test_split(\n",
    "        X, y, \n",
    "        stratify=y, \n",
    "        test_size=0.2, \n",
    "        random_state=42\n",
    "    )\n",
    "    \n",
    "    # Обучение модели\n",
    "    print(\"Обучение CatBoost модели...\")\n",
    "    model = CatBoostClassifier(\n",
    "        iterations=500,\n",
    "        learning_rate=0.1,\n",
    "        depth=6,\n",
    "        eval_metric='Recall',\n",
    "        random_seed=42,\n",
    "        verbose=100\n",
    "    )\n",
    "    \n",
    "    model.fit(\n",
    "        X_train, y_train,\n",
    "        eval_set=(X_test, y_test),\n",
    "        early_stopping_rounds=50\n",
    "    )\n",
    "    \n",
    "    # Оценка модели\n",
    "    y_pred = model.predict(X_test)\n",
    "    y_proba = model.predict_proba(X_test)[:, 1]\n",
    "    \n",
    "    metrics = {\n",
    "        'accuracy': accuracy_score(y_test, y_pred),\n",
    "        'recall': recall_score(y_test, y_pred),\n",
    "        'precision': precision_score(y_test, y_pred),\n",
    "        'f1': f1_score(y_test, y_pred),\n",
    "        'roc_auc': roc_auc_score(y_test, y_proba),\n",
    "        'timestamp': datetime.now().strftime(\"%Y-%m-%d %H:%M:%S\")\n",
    "    }\n",
    "    \n",
    "    # Сохранение модели и метрик\n",
    "    model_version = datetime.now().strftime(\"%Y%m%d_%H%M%S\")\n",
    "    model_name = f\"catboost_diabetes_{model_version}\"\n",
    "    \n",
    "    print(f\" Сохранение модели {model_name}...\")\n",
    "    joblib.dump(model, MODEL_DIR / f\"{model_name}.joblib\")\n",
    "    \n",
    "    with open(MODEL_DIR / f\"{model_name}_metrics.json\", 'w') as f:\n",
    "        json.dump(metrics, f, indent=4)\n",
    "    \n",
    "    print(\"\\nОбучение завершено!\")\n",
    "    print(\"Метрики модели:\")\n",
    "    for k, v in metrics.items():\n",
    "        if k == 'timestamp':\n",
    "            print(f\"{k.upper()}: {v}\")\n",
    "        else:\n",
    "            print(f\"{k.upper()}: {v:.4f}\")\n",
    "    \n",
    "    return model, metrics\n",
    "\n",
    "if __name__ == \"__main__\":\n",
    "    train_and_save_model()"
   ]
  },
  {
   "cell_type": "code",
   "execution_count": null,
   "metadata": {},
   "outputs": [],
   "source": []
  }
 ],
 "metadata": {
  "colab": {
   "provenance": []
  },
  "kernelspec": {
   "display_name": "Python (diabetes_venv)",
   "language": "python",
   "name": "diabetes_venv"
  },
  "language_info": {
   "codemirror_mode": {
    "name": "ipython",
    "version": 3
   },
   "file_extension": ".py",
   "mimetype": "text/x-python",
   "name": "python",
   "nbconvert_exporter": "python",
   "pygments_lexer": "ipython3",
   "version": "3.10.12"
  }
 },
 "nbformat": 4,
 "nbformat_minor": 4
}
